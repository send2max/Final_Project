{
 "cells": [
  {
   "cell_type": "markdown",
   "id": "b96bf71b-a85f-4616-964d-ef41cf4a459a",
   "metadata": {},
   "source": [
    "### Дана функция f = -18 * x ** 3 + 5 * x ** 2 + 10 * x - 30"
   ]
  },
  {
   "cell_type": "code",
   "execution_count": 2,
   "id": "6af76ea2-21b5-4a25-ae99-479c107bbe36",
   "metadata": {},
   "outputs": [],
   "source": [
    "from sympy import *\n",
    "from sympy.plotting import plot"
   ]
  },
  {
   "cell_type": "code",
   "execution_count": 3,
   "id": "c8c89297-e275-43b9-8b24-32731ae34187",
   "metadata": {},
   "outputs": [
    {
     "data": {
      "text/latex": [
       "$\\displaystyle - 18 x^{3} + 5 x^{2} + 10 x - 30$"
      ],
      "text/plain": [
       "-18*x**3 + 5*x**2 + 10*x - 30"
      ]
     },
     "execution_count": 3,
     "metadata": {},
     "output_type": "execute_result"
    }
   ],
   "source": [
    "x = Symbol('x')\n",
    "f = -18 * x ** 3 + 5 * x ** 2 + 10 * x - 30\n",
    "f"
   ]
  },
  {
   "cell_type": "markdown",
   "id": "6c7b4080-1f51-41b4-83ea-d89681f4c962",
   "metadata": {},
   "source": [
    "### 1. Определить корни"
   ]
  },
  {
   "cell_type": "code",
   "execution_count": 4,
   "id": "2a6d2e4b-c528-4f21-b0a4-9eb2a46503a0",
   "metadata": {},
   "outputs": [
    {
     "data": {
      "text/latex": [
       "$\\displaystyle \\left\\{- \\frac{\\sqrt[3]{\\frac{5 \\sqrt{218931}}{108} + \\frac{127045}{5832}}}{3} - \\frac{565}{972 \\sqrt[3]{\\frac{5 \\sqrt{218931}}{108} + \\frac{127045}{5832}}} + \\frac{5}{54}, \\frac{565}{1944 \\sqrt[3]{\\frac{5 \\sqrt{218931}}{108} + \\frac{127045}{5832}}} + \\frac{5}{54} + \\frac{\\sqrt[3]{\\frac{5 \\sqrt{218931}}{108} + \\frac{127045}{5832}}}{6} + i \\left(- \\frac{565 \\sqrt{3}}{1944 \\sqrt[3]{\\frac{5 \\sqrt{218931}}{108} + \\frac{127045}{5832}}} + \\frac{\\sqrt{3} \\sqrt[3]{\\frac{5 \\sqrt{218931}}{108} + \\frac{127045}{5832}}}{6}\\right), \\frac{565}{1944 \\sqrt[3]{\\frac{5 \\sqrt{218931}}{108} + \\frac{127045}{5832}}} + \\frac{5}{54} + \\frac{\\sqrt[3]{\\frac{5 \\sqrt{218931}}{108} + \\frac{127045}{5832}}}{6} + i \\left(- \\frac{\\sqrt{3} \\sqrt[3]{\\frac{5 \\sqrt{218931}}{108} + \\frac{127045}{5832}}}{6} + \\frac{565 \\sqrt{3}}{1944 \\sqrt[3]{\\frac{5 \\sqrt{218931}}{108} + \\frac{127045}{5832}}}\\right)\\right\\}$"
      ],
      "text/plain": [
       "{-(5*sqrt(218931)/108 + 127045/5832)**(1/3)/3 - 565/(972*(5*sqrt(218931)/108 + 127045/5832)**(1/3)) + 5/54, 565/(1944*(5*sqrt(218931)/108 + 127045/5832)**(1/3)) + 5/54 + (5*sqrt(218931)/108 + 127045/5832)**(1/3)/6 + I*(-565*sqrt(3)/(1944*(5*sqrt(218931)/108 + 127045/5832)**(1/3)) + sqrt(3)*(5*sqrt(218931)/108 + 127045/5832)**(1/3)/6), 565/(1944*(5*sqrt(218931)/108 + 127045/5832)**(1/3)) + 5/54 + (5*sqrt(218931)/108 + 127045/5832)**(1/3)/6 + I*(-sqrt(3)*(5*sqrt(218931)/108 + 127045/5832)**(1/3)/6 + 565*sqrt(3)/(1944*(5*sqrt(218931)/108 + 127045/5832)**(1/3)))}"
      ]
     },
     "execution_count": 4,
     "metadata": {},
     "output_type": "execute_result"
    }
   ],
   "source": [
    "solveset (f,x)"
   ]
  },
  {
   "cell_type": "markdown",
   "id": "b37899e1-dfed-4a3c-9cdf-6da15007aa58",
   "metadata": {},
   "source": [
    "### 2. Найти интервалы, на которых функция возрастает\n",
    "### 3. Найти интервалы, на которых функция убывает"
   ]
  },
  {
   "cell_type": "code",
   "execution_count": 22,
   "id": "51f6c477-4606-45d1-91cf-d4ada0a8fac4",
   "metadata": {},
   "outputs": [
    {
     "data": {
      "text/plain": [
       "[-oo, 5/54 - sqrt(565)/54, 5/54 + sqrt(565)/54, oo]"
      ]
     },
     "execution_count": 22,
     "metadata": {},
     "output_type": "execute_result"
    }
   ],
   "source": [
    "b=[-oo, oo]\n",
    "b[1:1] = solve(diff(f), x)\n",
    "b"
   ]
  },
  {
   "cell_type": "code",
   "execution_count": 23,
   "id": "22d0d6d7-e718-43f3-bb71-cee02666025a",
   "metadata": {},
   "outputs": [
    {
     "name": "stdout",
     "output_type": "stream",
     "text": [
      "Возрастает на интервалах:\n",
      "[-0.35, 0.53]\n",
      "Убывает на интервалах:\n",
      "[-oo, -0.35]\n",
      "[0.53, oo]\n"
     ]
    }
   ],
   "source": [
    "c=[]\n",
    "d=[]\n",
    "for i in range(1, len(b)):\n",
    "    boo=is_increasing(f, Interval.open(b[i-1], b[i]))\n",
    "    if boo:\n",
    "        c.append(f\"[{round(b[i-1], 2)}, {round(b[i], 2)}]\")\n",
    "    else:\n",
    "        d.append(f\"[{round(b[i-1], 2)}, {round(b[i], 2)}]\")\n",
    "        \n",
    "print(f\"Возрастает на интервалах:\", *c, sep=\"\\n\")\n",
    "print(f\"Убывает на интервалах:\", *d, sep=\"\\n\")"
   ]
  },
  {
   "cell_type": "markdown",
   "id": "2455bf89-edbe-452a-90c7-0a77ddf1388f",
   "metadata": {},
   "source": [
    "### 4. Построить график"
   ]
  },
  {
   "cell_type": "code",
   "execution_count": 8,
   "id": "9a1a8198-7859-4dfb-b89e-5b8625ffb28d",
   "metadata": {},
   "outputs": [
    {
     "data": {
      "image/png": "[encoded data removed]",
      "text/plain": [
       "<Figure size 640x480 with 1 Axes>"
      ]
     },
     "metadata": {},
     "output_type": "display_data"
    },
    {
     "data": {
      "text/plain": [
       "<sympy.plotting.plot.Plot at 0x1d901a61c70>"
      ]
     },
     "execution_count": 8,
     "metadata": {},
     "output_type": "execute_result"
    }
   ],
   "source": [
    "plot(f, (x, -3, 3), legend=True)"
   ]
  },
  {
   "cell_type": "markdown",
   "id": "7f39c667-9070-4445-ada9-e2ba020acf5a",
   "metadata": {},
   "source": [
    "### 5. Вычислить вершину\n",
    "### Экстремумы функции"
   ]
  },
  {
   "cell_type": "code",
   "execution_count": 11,
   "id": "c8bf72de-77fd-42bd-8e3d-696d354811f5",
   "metadata": {},
   "outputs": [
    {
     "name": "stdout",
     "output_type": "stream",
     "text": [
      "Точка минимума: x:-0.348 y:-32.116\n",
      "Точка минимума: x:0.533 y:-25.975\n"
     ]
    }
   ],
   "source": [
    "e=solve(diff(f),x)\n",
    "for i in e:\n",
    "    g = f.subs(x,i)\n",
    "    if g<0:\n",
    "        print(f'Точка минимума: x:{round(i, 2)} y:{round(g, 2)}')\n",
    "    elif g>0:\n",
    "        print(f'Точка максимума: x:{round(i, 2)} y:{round(g, 2)}')"
   ]
  },
  {
   "cell_type": "code",
   "execution_count": null,
   "id": "72f0ef25-4937-4729-b074-519da9b709b6",
   "metadata": {},
   "outputs": [],
   "source": []
  }
 ],
 "metadata": {
  "kernelspec": {
   "display_name": "Python 3.10.8 64-bit (microsoft store)",
   "language": "python",
   "name": "python3"
  },
  "language_info": {
   "codemirror_mode": {
    "name": "ipython",
    "version": 3
   },
   "file_extension": ".py",
   "mimetype": "text/x-python",
   "name": "python",
   "nbconvert_exporter": "python",
   "pygments_lexer": "ipython3",
   "version": "3.10.8"
  },
  "vscode": {
   "interpreter": {
    "hash": "c48b219e2b49a25484ffa4b5460c6c19f075ef78f56949977d12fcd86bed8fc9"
   }
  }
 },
 "nbformat": 4,
 "nbformat_minor": 5
}
